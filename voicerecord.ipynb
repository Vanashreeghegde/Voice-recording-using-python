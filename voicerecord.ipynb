{
  "nbformat": 4,
  "nbformat_minor": 0,
  "metadata": {
    "colab": {
      "provenance": [],
      "authorship_tag": "ABX9TyNk9vMJhH0AC8owcFzR9a+F",
      "include_colab_link": true
    },
    "kernelspec": {
      "name": "python3",
      "display_name": "Python 3"
    },
    "language_info": {
      "name": "python"
    }
  },
  "cells": [
    {
      "cell_type": "markdown",
      "metadata": {
        "id": "view-in-github",
        "colab_type": "text"
      },
      "source": [
        "<a href=\"https://colab.research.google.com/github/Vanashreeghegde/Voice-recording-using-python/blob/main/voicerecord.ipynb\" target=\"_parent\"><img src=\"https://colab.research.google.com/assets/colab-badge.svg\" alt=\"Open In Colab\"/></a>"
      ]
    },
    {
      "cell_type": "code",
      "source": [
        "# Cell 1: Install PyAudio (run this cell first)\n",
        "!pip install PyAudio\n",
        "\n",
        "# Cell 2: Import necessary modules and define the voice recorder function\n",
        "import pyaudio  # Import the PyAudio module for audio processing\n",
        "import wave  # Import the wave module for saving audio data\n",
        "\n",
        "def voice_recorder(seconds, file):\n",
        "    chunk = 1024  # Record in chunks of 1024 samples\n",
        "    sample_format = pyaudio.paInt16  # 16 bits per sample\n",
        "    channels = 2  # Number of audio channels (stereo)\n",
        "    fs = 44100  # Sampling rate (samples per second)\n",
        "\n",
        "    p = pyaudio.PyAudio()  # Create a PyAudio object\n",
        "\n",
        "    print('Recording...')\n",
        "\n",
        "    stream = p.open(format=sample_format,\n",
        "                    channels=channels,\n",
        "                    rate=fs,\n",
        "                    frames_per_buffer=chunk,\n",
        "                    input=True)\n",
        "\n",
        "    frames = []  # Initialize a list to store audio frames\n",
        "\n",
        "    # Record audio data for the specified duration\n",
        "    for i in range(0, int(fs / chunk * seconds)):\n",
        "        data = stream.read(chunk)\n",
        "        frames.append(data)\n",
        "\n",
        "    # Stop and close the stream\n",
        "    stream.stop_stream()\n",
        "    stream.close()\n",
        "    p.terminate()\n",
        "\n",
        "    print('Finished recording')\n",
        "\n",
        "    # Save the recorded audio data to a WAV file\n",
        "    wf = wave.open(file, 'wb')\n",
        "    wf.setnchannels(channels)\n",
        "    wf.setsampwidth(p.get_sample_size(sample_format))\n",
        "    wf.setframerate(fs)\n",
        "    wf.writeframes(b''.join(frames))\n",
        "    wf.close()\n",
        "\n",
        "# Cell 3: Call the voice_recorder function to record audio\n",
        "voice_recorder(10, \"record.wav\")  # Record for 10 seconds and save to \"record.wav\""
      ],
      "metadata": {
        "id": "s9I9N91rezXC"
      },
      "execution_count": null,
      "outputs": []
    }
  ]
}